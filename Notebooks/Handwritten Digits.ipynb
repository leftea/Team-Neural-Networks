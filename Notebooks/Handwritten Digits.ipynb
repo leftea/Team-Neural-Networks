{
 "metadata": {
  "name": "",
  "signature": "sha256:fc10ae7997881c7e2e931476df59803d7865d71e5cc31be672e907f43d847d3f"
 },
 "nbformat": 3,
 "nbformat_minor": 0,
 "worksheets": [
  {
   "cells": [
    {
     "cell_type": "heading",
     "level": 1,
     "metadata": {},
     "source": [
      "Handwritten Digit Recognizer"
     ]
    },
    {
     "cell_type": "markdown",
     "metadata": {},
     "source": [
      "Outline:\n",
      "0. Description of the problem\n",
      "1. Exploratory Analysis\n",
      "2. Image Processing Considerations\n",
      "3. Models\n",
      "    -KNN\n",
      "    -Multilayer perceptron\n",
      "    -Convolutional Neural Network\n",
      "4. Actual handwritten digits"
     ]
    },
    {
     "cell_type": "code",
     "collapsed": false,
     "input": [
      "import pandas as pd\n",
      "import numpy as np\n",
      "import matplotlib.pyplot as plt\n",
      "%matplotlib inline"
     ],
     "language": "python",
     "metadata": {},
     "outputs": [],
     "prompt_number": 1
    },
    {
     "cell_type": "code",
     "collapsed": false,
     "input": [
      "images =pd.read_csv('digitTrain.csv')"
     ],
     "language": "python",
     "metadata": {},
     "outputs": [],
     "prompt_number": 2
    },
    {
     "cell_type": "heading",
     "level": 2,
     "metadata": {},
     "source": [
      "Description of the problem"
     ]
    },
    {
     "cell_type": "markdown",
     "metadata": {},
     "source": []
    },
    {
     "cell_type": "heading",
     "level": 2,
     "metadata": {},
     "source": [
      "Exploratory Analysis"
     ]
    },
    {
     "cell_type": "markdown",
     "metadata": {},
     "source": [
      "Since this is a famous data set, it's fair to assume that no direct cleaning is needed, unless we would like to clean our data from an image processing perspective. \n",
      "\n",
      "First, let's look at what some of the images look like.\n"
     ]
    },
    {
     "cell_type": "code",
     "collapsed": false,
     "input": [
      "labels = images['label']"
     ],
     "language": "python",
     "metadata": {},
     "outputs": [],
     "prompt_number": 3
    },
    {
     "cell_type": "code",
     "collapsed": false,
     "input": [
      "reshaped = [images.drop('label', axis = 1).values[i].reshape(28,28) for i in range(1,20)]"
     ],
     "language": "python",
     "metadata": {},
     "outputs": [],
     "prompt_number": 4
    },
    {
     "cell_type": "code",
     "collapsed": false,
     "input": [
      "import matplotlib.cm as cm\n",
      "fig, axes= plt.subplots(1,4)\n",
      "axes[0].imshow(reshaped[1], cmap = cm.gist_yarg);\n",
      "axes[1].imshow(reshaped[2], cmap = cm.gist_yarg);\n",
      "axes[2].imshow(reshaped[3], cmap = cm.gist_yarg);\n",
      "axes[3].imshow(reshaped[10], cmap = cm.gist_yarg);"
     ],
     "language": "python",
     "metadata": {},
     "outputs": [
      {
       "metadata": {},
       "output_type": "display_data",
       "png": "[encoded data removed]",
       "text": [
        "<matplotlib.figure.Figure at 0x21f44470>"
       ]
      }
     ],
     "prompt_number": 5
    },
    {
     "cell_type": "markdown",
     "metadata": {},
     "source": [
      "We can see that there is a fair bit of variation in the style of writing, as we would expect."
     ]
    },
    {
     "cell_type": "heading",
     "level": 2,
     "metadata": {},
     "source": [
      "Image Processing considerations"
     ]
    },
    {
     "cell_type": "markdown",
     "metadata": {},
     "source": []
    },
    {
     "cell_type": "code",
     "collapsed": false,
     "input": [],
     "language": "python",
     "metadata": {},
     "outputs": [],
     "prompt_number": 5
    },
    {
     "cell_type": "code",
     "collapsed": false,
     "input": [],
     "language": "python",
     "metadata": {},
     "outputs": [],
     "prompt_number": 5
    },
    {
     "cell_type": "code",
     "collapsed": false,
     "input": [
      "\n",
      "dataList[0][1]"
     ],
     "language": "python",
     "metadata": {},
     "outputs": [
      {
       "metadata": {},
       "output_type": "pyout",
       "prompt_number": 12,
       "text": [
        "[1]"
       ]
      }
     ],
     "prompt_number": 12
    },
    {
     "cell_type": "code",
     "collapsed": false,
     "input": [
      "NN = MLP_Classifier(784, 4, 1, iterations = 50, learning_rate = 0.01, \n",
      "                        momentum = 0.5, rate_decay = 0.0001, \n",
      "                        output_layer = 'softmax')"
     ],
     "language": "python",
     "metadata": {},
     "outputs": [],
     "prompt_number": 7
    },
    {
     "cell_type": "code",
     "collapsed": false,
     "input": [
      "xdata = images.drop('label',axis = 1)\n",
      "dataList = []\n",
      "for i in range(len(images)):\n",
      "    tupledata = [xdata.values[i,:], [images.values[i,0]]]\n",
      "    dataList.append(tupledata)\n",
      "    \n",
      "NN.fit(dataList)"
     ],
     "language": "python",
     "metadata": {},
     "outputs": [
      {
       "output_type": "stream",
       "stream": "stdout",
       "text": [
        "Using softmax activation in output layer\n",
        "Training error 0.00000"
       ]
      },
      {
       "output_type": "stream",
       "stream": "stdout",
       "text": [
        "\n",
        "Training error 0.00000"
       ]
      },
      {
       "output_type": "stream",
       "stream": "stdout",
       "text": [
        "\n",
        "Training error 0.00000"
       ]
      },
      {
       "output_type": "stream",
       "stream": "stdout",
       "text": [
        "\n",
        "Training error 0.00000"
       ]
      },
      {
       "output_type": "stream",
       "stream": "stdout",
       "text": [
        "\n",
        "Training error 0.00000"
       ]
      },
      {
       "output_type": "stream",
       "stream": "stdout",
       "text": [
        "\n"
       ]
      }
     ],
     "prompt_number": 8
    },
    {
     "cell_type": "code",
     "collapsed": false,
     "input": [
      "import time\n",
      "import random\n",
      "import numpy as np\n",
      "np.seterr(all = 'ignore')\n",
      "\n",
      "# transfer functions\n",
      "def sigmoid(x):\n",
      "    return 1 / (1 + np.exp(-x))\n",
      "\n",
      "# derivative of sigmoid\n",
      "def dsigmoid(y):\n",
      "    return y * (1.0 - y)\n",
      "\n",
      "# using softmax as output layer is recommended for classification where outputs are mutually exclusive\n",
      "def softmax(w):\n",
      "    e = np.exp(w - np.amax(w))\n",
      "    dist = e / np.sum(e)\n",
      "    return dist\n",
      "\n",
      "# using tanh over logistic sigmoid for the hidden layer is recommended   \n",
      "def tanh(x):\n",
      "    return np.tanh(x)\n",
      "    \n",
      "# derivative for tanh sigmoid\n",
      "def dtanh(y):\n",
      "    return 1 - y*y\n",
      "\n",
      "class MLP_Classifier(object):\n",
      "    \"\"\"\n",
      "    Basic MultiLayer Perceptron (MLP) neural network with regularization and learning rate decay\n",
      "    Consists of three layers: input, hidden and output. The sizes of input and output must match data\n",
      "    the size of hidden is user defined when initializing the network.\n",
      "    The algorithm can be used on any dataset.\n",
      "    As long as the data is in this format: [[[x1, x2, x3, ..., xn], [y1, y2, ..., yn]],\n",
      "                                           [[[x1, x2, x3, ..., xn], [y1, y2, ..., yn]],\n",
      "                                           ...\n",
      "                                           [[[x1, x2, x3, ..., xn], [y1, y2, ..., yn]]]\n",
      "    An example is provided below with the digit recognition dataset provided by sklearn\n",
      "    Fully pypy compatible.\n",
      "    \"\"\"\n",
      "    def __init__(self, input, hidden, output, iterations = 50, learning_rate = 0.01, \n",
      "                l2_in = 0, l2_out = 0, momentum = 0, rate_decay = 0, \n",
      "                output_layer = 'logistic', verbose = True):\n",
      "        \"\"\"\n",
      "        :param input: number of input neurons\n",
      "        :param hidden: number of hidden neurons\n",
      "        :param output: number of output neurons\n",
      "        :param iterations: how many epochs\n",
      "        :param learning_rate: initial learning rate\n",
      "        :param l2: L2 regularization term\n",
      "        :param momentum: momentum\n",
      "        :param rate_decay: how much to decrease learning rate by on each iteration (epoch)\n",
      "        :param output_layer: activation (transfer) function of the output layer\n",
      "        :param verbose: whether to spit out error rates while training\n",
      "        \"\"\"\n",
      "        # initialize parameters\n",
      "        self.iterations = iterations\n",
      "        self.learning_rate = learning_rate\n",
      "        self.l2_in = l2_in\n",
      "        self.l2_out = l2_out\n",
      "        self.momentum = momentum\n",
      "        self.rate_decay = rate_decay\n",
      "        self.verbose = verbose\n",
      "        self.output_activation = output_layer\n",
      "        \n",
      "        # initialize arrays\n",
      "        self.input = input + 1 # add 1 for bias node\n",
      "        self.hidden = hidden \n",
      "        self.output = output\n",
      "\n",
      "        # set up array of 1s for activations\n",
      "        self.ai = np.ones(self.input)\n",
      "        self.ah = np.ones(self.hidden)\n",
      "        self.ao = np.ones(self.output)\n",
      "\n",
      "        # create randomized weights\n",
      "        # use scheme from Efficient Backprop by LeCun 1998 to initialize weights for hidden layer\n",
      "        input_range = 1.0 / self.input ** (1/2)\n",
      "        self.wi = np.random.normal(loc = 0, scale = input_range, size = (self.input, self.hidden))\n",
      "        self.wo = np.random.uniform(size = (self.hidden, self.output)) / np.sqrt(self.hidden)\n",
      "        \n",
      "        # create arrays of 0 for changes\n",
      "        # this is essentially an array of temporary values that gets updated at each iteration\n",
      "        # based on how much the weights need to change in the following iteration\n",
      "        self.ci = np.zeros((self.input, self.hidden))\n",
      "        self.co = np.zeros((self.hidden, self.output))\n",
      "\n",
      "    def feedForward(self, inputs):\n",
      "        \"\"\"\n",
      "        The feedforward algorithm loops over all the nodes in the hidden layer and\n",
      "        adds together all the outputs from the input layer * their weights\n",
      "        the output of each node is the sigmoid function of the sum of all inputs\n",
      "        which is then passed on to the next layer.\n",
      "        :param inputs: input data\n",
      "        :return: updated activation output vector\n",
      "        \"\"\"\n",
      "        if len(inputs) != self.input-1:\n",
      "            raise ValueError('Wrong number of inputs you silly goose!')\n",
      "\n",
      "        # input activations\n",
      "        self.ai[0:self.input -1] = inputs\n",
      "\n",
      "        # hidden activations\n",
      "        sum = np.dot(self.wi.T, self.ai)\n",
      "        self.ah = tanh(sum)\n",
      "        \n",
      "        # output activations\n",
      "        sum = np.dot(self.wo.T, self.ah)\n",
      "        if self.output_activation == 'logistic':\n",
      "            self.ao = sigmoid(sum)\n",
      "        elif self.output_activation == 'softmax':\n",
      "            self.ao = softmax(sum)\n",
      "        else:\n",
      "            raise ValueError('Choose a compatible output layer activation or check your spelling ;-p') \n",
      "        \n",
      "        \n",
      "        return self.ao\n",
      "\n",
      "    def backPropagate(self, targets):\n",
      "        \"\"\"\n",
      "        For the output layer\n",
      "        1. Calculates the difference between output value and target value\n",
      "        2. Get the derivative (slope) of the sigmoid function in order to determine how much the weights need to change\n",
      "        3. update the weights for every node based on the learning rate and sig derivative\n",
      "\n",
      "        For the hidden layer\n",
      "        1. calculate the sum of the strength of each output link multiplied by how much the target node has to change\n",
      "        2. get derivative to determine how much weights need to change\n",
      "        3. change the weights based on learning rate and derivative\n",
      "        :param targets: y values\n",
      "        :param N: learning rate\n",
      "        :return: updated weights\n",
      "        \"\"\"\n",
      "        if len(targets) != self.output:\n",
      "            raise ValueError('Wrong number of targets you silly goose!')\n",
      "\n",
      "        # calculate error terms for output\n",
      "        # the delta (theta) tell you which direction to change the weights\n",
      "        if self.output_activation == 'logistic':\n",
      "            output_deltas = dsigmoid(self.ao) * -(targets - self.ao)\n",
      "        elif self.output_activation == 'softmax':\n",
      "            output_deltas = -(targets - self.ao)\n",
      "        else:\n",
      "            raise ValueError('Choose a compatible output layer activation or check your spelling ;-p') \n",
      "        \n",
      "        # calculate error terms for hidden\n",
      "        # delta (theta) tells you which direction to change the weights\n",
      "        error = np.dot(self.wo, output_deltas)\n",
      "        hidden_deltas = dtanh(self.ah) * error\n",
      "        \n",
      "        # update the weights connecting hidden to output, change == partial derivative\n",
      "        change = output_deltas * np.reshape(self.ah, (self.ah.shape[0],1))\n",
      "        regularization = self.l2_out * self.wo\n",
      "        self.wo -= self.learning_rate * (change + regularization) + self.co * self.momentum \n",
      "        self.co = change \n",
      "\n",
      "        # update the weights connecting input to hidden, change == partial derivative\n",
      "        change = hidden_deltas * np.reshape(self.ai, (self.ai.shape[0], 1))\n",
      "        regularization = self.l2_in * self.wi\n",
      "        self.wi -= self.learning_rate * (change + regularization) + self.ci * self.momentum \n",
      "        self.ci = change\n",
      "\n",
      "        # calculate error\n",
      "        if self.output_activation == 'softmax':\n",
      "            error = -sum(targets * np.log(self.ao))\n",
      "        elif self.output_activation == 'logistic':\n",
      "            error = sum(0.5 * (targets - self.ao)**2)\n",
      "        \n",
      "        return error\n",
      "\n",
      "    def test(self, patterns):\n",
      "        \"\"\"\n",
      "        Currently this will print out the targets next to the predictions.\n",
      "        Not useful for actual ML, just for visual inspection.\n",
      "        \"\"\"\n",
      "        for p in patterns:\n",
      "            print(p[1], '->', self.feedForward(p[0]))\n",
      "\n",
      "    def fit(self, patterns):\n",
      "        if self.verbose == True:\n",
      "            if self.output_activation == 'softmax':\n",
      "                print 'Using softmax activation in output layer'\n",
      "            elif self.output_activation == 'logistic':\n",
      "                print 'Using logistic sigmoid activation in output layer'\n",
      "                \n",
      "        num_example = np.shape(patterns)[0]\n",
      "                \n",
      "        for i in range(self.iterations):\n",
      "            error = 0.0\n",
      "            random.shuffle(patterns)\n",
      "            for p in patterns:\n",
      "                inputs = p[0]\n",
      "                targets = p[1]\n",
      "                self.feedForward(inputs)\n",
      "                error += self.backPropagate(targets)\n",
      "                \n",
      "            with open('error.txt', 'a') as errorfile:\n",
      "                errorfile.write(str(error) + '\\n')\n",
      "                errorfile.close()\n",
      "                \n",
      "            if i % 10 == 0 and self.verbose == True:\n",
      "                error = error/num_example\n",
      "                print('Training error %-.5f' % error)\n",
      "                \n",
      "            # learning rate decay\n",
      "            self.learning_rate = self.learning_rate * (self.learning_rate / (self.learning_rate + (self.learning_rate * self.rate_decay)))\n",
      "                \n",
      "    def predict(self, X):\n",
      "        \"\"\"\n",
      "        return list of predictions after training algorithm\n",
      "        \"\"\"\n",
      "        predictions = []\n",
      "        for p in X:\n",
      "            predictions.append(self.feedForward(p))\n",
      "        return predictions\n",
      "\n",
      "def demo():\n",
      "    from sklearn.preprocessing import scale\n",
      "    \"\"\"\n",
      "    run NN demo on the digit recognition dataset from sklearn\n",
      "    \"\"\"\n",
      "    def load_data():\n",
      "        data = np.loadtxt('digitTrain.csv', delimiter = ',')\n",
      "\n",
      "        # first ten values are the one hot encoded y (target) values\n",
      "        y = data[:,0:10]\n",
      "        \n",
      "        data = data[:,10:] # x data\n",
      "        data = scale(data)\n",
      "        \n",
      "        out = []\n",
      "        #print data.shape\n",
      "\n",
      "        # populate the tuple list with the data\n",
      "        for i in range(data.shape[0]):\n",
      "            tupledata = list((data[i,:].tolist(), y[i].tolist())) # don't mind this variable name\n",
      "            out.append(tupledata)\n",
      "\n",
      "        return out\n",
      "    \n",
      "    start = time.time()\n",
      "    \n",
      "    X = load_data()\n",
      "\n",
      "    #print X[9] # make sure the data looks right\n",
      "\n",
      "    NN = MLP_Classifier(64, 4000, 10, iterations = 50, learning_rate = 0.01, \n",
      "                        momentum = 0.5, rate_decay = 0.0001, \n",
      "                        output_layer = 'logistic')\n",
      "\n",
      "    NN.fit(X)\n",
      "    \n",
      "    end = time.time()\n",
      "    print end - start\n",
      "    \n",
      "    #NN.test(X)\n"
     ],
     "language": "python",
     "metadata": {},
     "outputs": [],
     "prompt_number": 6
    },
    {
     "cell_type": "code",
     "collapsed": false,
     "input": [
      "import pandas as pd\n",
      "from sklearn.cross_validation import train_test_split \n",
      "from nolearn.lasagne import NeuralNet, BatchIterator\n",
      "from lasagne import layers\n",
      "from lasagne.nonlinearities import softmax\n",
      "from lasagne.updates import momentum, nesterov_momentum, sgd, rmsprop\n",
      "import numpy as np\n",
      "from matplotlib import pyplot\n",
      "from sklearn.metrics import accuracy_score\n",
      "from sklearn.utils import shuffle\n",
      "\n",
      "\n",
      "def plot_loss(net):\n",
      "    \"\"\"\n",
      "    Plot the training loss and validation loss versus epoch iterations with respect to \n",
      "    a trained neural network.\n",
      "    \"\"\"\n",
      "    train_loss = np.array([i[\"train_loss\"] for i in net.train_history_])\n",
      "    valid_loss = np.array([i[\"valid_loss\"] for i in net.train_history_])\n",
      "    pyplot.plot(train_loss, linewidth = 3, label = \"train\")\n",
      "    pyplot.plot(valid_loss, linewidth = 3, label = \"valid\")\n",
      "    pyplot.grid()\n",
      "    pyplot.legend()\n",
      "    pyplot.xlabel(\"epoch\")\n",
      "    pyplot.ylabel(\"loss\")\n",
      "    #pyplot.ylim(1e-3, 1e-2)\n",
      "    pyplot.yscale(\"log\")\n",
      "    pyplot.show()\n",
      "\n",
      "\n",
      "train_df = pd.read_csv('digitTrain.csv') \n",
      "\n",
      "\n",
      "train_label = train_df.values[:,0]\n",
      "train_data = train_df.values[:, 1:]\n",
      "print \"train:\", train_data.shape, train_label.shape\n",
      "\n",
      "\n",
      "train_data = train_data.astype(np.float)\n",
      "train_label = train_label.astype(np.int32)\n",
      "train_data, train_label = shuffle(train_data, train_label, random_state = 21)\n",
      "\n",
      "\n",
      "#train_data, valid_data, train_label, valid_label = train_test_split(train_data, train_label, test_size = 0.2, random_state = 21)\n",
      "\n",
      "fc_1hidden = NeuralNet(\n",
      "    layers = [  # three layers: one hidden layer\n",
      "        ('input', layers.InputLayer),\n",
      "        ('hidden', layers.DenseLayer),\n",
      "        ('dropout', layers.DropoutLayer),\n",
      "        ('output', layers.DenseLayer),\n",
      "        ],\n",
      "    # layer parameters:\n",
      "    input_shape = (None, 784),  # 28x28 input pixels per batch\n",
      "    hidden_num_units = 100,  # number of units in hidden layer\n",
      "    dropout_p = 0.25, # dropout probability\n",
      "    output_nonlinearity = softmax,  # output layer uses softmax function\n",
      "    output_num_units = 10,  # 10 labels\n",
      "\n",
      "    # optimization method:\n",
      "    #update = nesterov_momentum,\n",
      "    update = sgd,\n",
      "    update_learning_rate = 0.001,\n",
      "    #update_momentum = 0.9,\n",
      "\n",
      "    eval_size = 0.1,\n",
      "\n",
      "    # batch_iterator_train = BatchIterator(batch_size = 20),\n",
      "    # batch_iterator_test = BatchIterator(batch_size = 20),\n",
      "\n",
      "    max_epochs = 100,  # we want to train this many epochs\n",
      "    verbose = 1,\n",
      "    )\n",
      "\n",
      "fc_1hidden.fit(train_data, train_label)\n",
      "plot_loss(fc_1hidden)"
     ],
     "language": "python",
     "metadata": {},
     "outputs": [
      {
       "output_type": "stream",
       "stream": "stdout",
       "text": [
        "train: (42000L, 784L) (42000L,)\n",
        "  InputLayer        \t(None, 784)         \tproduces     784 outputs"
       ]
      },
      {
       "output_type": "stream",
       "stream": "stdout",
       "text": [
        "\n",
        "  DenseLayer        \t(None, 100)         \tproduces     100 outputs\n",
        "  DropoutLayer      \t(None, 100)         \tproduces     100 outputs\n",
        "  DenseLayer        \t(None, 10)          \tproduces      10 outputs\n",
        "\n",
        " Epoch  |  Train loss  |  Valid loss  |  Train / Val  |  Valid acc  |  Dur\n",
        "--------|--------------|--------------|---------------|-------------|-------"
       ]
      },
      {
       "output_type": "stream",
       "stream": "stdout",
       "text": [
        "\n",
        "     1  |  \u001b[94m  4.913953\u001b[0m  |  \u001b[32m  1.418835\u001b[0m  |     3.463372  |     63.74%  |  0.8s"
       ]
      },
      {
       "output_type": "stream",
       "stream": "stdout",
       "text": [
        "\n",
        "     2  |  \u001b[94m  1.447152\u001b[0m  |  \u001b[32m  1.079770\u001b[0m  |     1.340241  |     73.46%  |  0.8s"
       ]
      },
      {
       "output_type": "stream",
       "stream": "stdout",
       "text": [
        "\n",
        "     3  |  \u001b[94m  1.182551\u001b[0m  |  \u001b[32m  0.906699\u001b[0m  |     1.304237  |     77.10%  |  0.8s"
       ]
      },
      {
       "output_type": "stream",
       "stream": "stdout",
       "text": [
        "\n",
        "     4  |  \u001b[94m  1.027075\u001b[0m  |  \u001b[32m  0.815295\u001b[0m  |     1.259758  |     79.51%  |  0.9s"
       ]
      },
      {
       "output_type": "stream",
       "stream": "stdout",
       "text": [
        "\n",
        "     5  |  \u001b[94m  0.933322\u001b[0m  |  \u001b[32m  0.742779\u001b[0m  |     1.256527  |     81.73%  |  0.9s"
       ]
      },
      {
       "output_type": "stream",
       "stream": "stdout",
       "text": [
        "\n",
        "     6  |  \u001b[94m  0.857034\u001b[0m  |  \u001b[32m  0.686894\u001b[0m  |     1.247694  |     83.37%  |  0.9s"
       ]
      },
      {
       "output_type": "stream",
       "stream": "stdout",
       "text": [
        "\n",
        "     7  |  \u001b[94m  0.798782\u001b[0m  |  \u001b[32m  0.638364\u001b[0m  |     1.251294  |     84.08%  |  0.8s"
       ]
      },
      {
       "output_type": "stream",
       "stream": "stdout",
       "text": [
        "\n",
        "     8  |  \u001b[94m  0.750758\u001b[0m  |  \u001b[32m  0.617997\u001b[0m  |     1.214824  |     84.39%  |  0.9s"
       ]
      },
      {
       "output_type": "stream",
       "stream": "stdout",
       "text": [
        "\n",
        "     9  |  \u001b[94m  0.716030\u001b[0m  |  \u001b[32m  0.550294\u001b[0m  |     1.301177  |     85.78%  |  0.9s"
       ]
      },
      {
       "output_type": "stream",
       "stream": "stdout",
       "text": [
        "\n",
        "    10  |  \u001b[94m  0.679090\u001b[0m  |  \u001b[32m  0.528475\u001b[0m  |     1.285001  |     86.04%  |  0.9s"
       ]
      },
      {
       "output_type": "stream",
       "stream": "stdout",
       "text": [
        "\n",
        "    11  |  \u001b[94m  0.637861\u001b[0m  |  \u001b[32m  0.504922\u001b[0m  |     1.263286  |     86.78%  |  1.0s"
       ]
      },
      {
       "output_type": "stream",
       "stream": "stdout",
       "text": [
        "\n",
        "    12  |  \u001b[94m  0.620076\u001b[0m  |    0.512554  |     1.209776  |     85.95%  |  0.9s"
       ]
      },
      {
       "output_type": "stream",
       "stream": "stdout",
       "text": [
        "\n",
        "    13  |  \u001b[94m  0.595028\u001b[0m  |  \u001b[32m  0.480894\u001b[0m  |     1.237338  |     87.40%  |  0.9s"
       ]
      },
      {
       "output_type": "stream",
       "stream": "stdout",
       "text": [
        "\n",
        "    14  |  \u001b[94m  0.571994\u001b[0m  |  \u001b[32m  0.456751\u001b[0m  |     1.252311  |     88.62%  |  0.8s"
       ]
      },
      {
       "output_type": "stream",
       "stream": "stdout",
       "text": [
        "\n",
        "    15  |  \u001b[94m  0.553133\u001b[0m  |  \u001b[32m  0.449696\u001b[0m  |     1.230017  |     88.43%  |  0.8s"
       ]
      },
      {
       "output_type": "stream",
       "stream": "stdout",
       "text": [
        "\n",
        "    16  |  \u001b[94m  0.539762\u001b[0m  |  \u001b[32m  0.441975\u001b[0m  |     1.221249  |     89.07%  |  0.9s"
       ]
      },
      {
       "output_type": "stream",
       "stream": "stdout",
       "text": [
        "\n",
        "    17  |  \u001b[94m  0.520730\u001b[0m  |  \u001b[32m  0.440912\u001b[0m  |     1.181031  |     88.80%  |  0.9s"
       ]
      },
      {
       "output_type": "stream",
       "stream": "stdout",
       "text": [
        "\n",
        "    18  |  \u001b[94m  0.511077\u001b[0m  |    0.442679  |     1.154511  |     89.07%  |  0.8s"
       ]
      },
      {
       "output_type": "stream",
       "stream": "stdout",
       "text": [
        "\n",
        "    19  |  \u001b[94m  0.495919\u001b[0m  |  \u001b[32m  0.431615\u001b[0m  |     1.148986  |     89.47%  |  0.8s"
       ]
      },
      {
       "output_type": "stream",
       "stream": "stdout",
       "text": [
        "\n",
        "    20  |  \u001b[94m  0.486572\u001b[0m  |  \u001b[32m  0.424377\u001b[0m  |     1.146556  |     89.77%  |  0.8s"
       ]
      },
      {
       "output_type": "stream",
       "stream": "stdout",
       "text": [
        "\n",
        "    21  |  \u001b[94m  0.476702\u001b[0m  |    0.435918  |     1.093560  |     89.30%  |  0.8s"
       ]
      },
      {
       "output_type": "stream",
       "stream": "stdout",
       "text": [
        "\n",
        "    22  |  \u001b[94m  0.463601\u001b[0m  |  \u001b[32m  0.414976\u001b[0m  |     1.117176  |     90.44%  |  0.8s"
       ]
      },
      {
       "output_type": "stream",
       "stream": "stdout",
       "text": [
        "\n",
        "    23  |  \u001b[94m  0.457188\u001b[0m  |  \u001b[32m  0.406195\u001b[0m  |     1.125537  |     90.58%  |  0.9s"
       ]
      },
      {
       "output_type": "stream",
       "stream": "stdout",
       "text": [
        "\n",
        "    24  |  \u001b[94m  0.455021\u001b[0m  |    0.406423  |     1.119574  |     90.59%  |  0.8s"
       ]
      },
      {
       "output_type": "stream",
       "stream": "stdout",
       "text": [
        "\n",
        "    25  |  \u001b[94m  0.441662\u001b[0m  |    0.412700  |     1.070175  |     90.18%  |  0.8s"
       ]
      },
      {
       "output_type": "stream",
       "stream": "stdout",
       "text": [
        "\n",
        "    26  |  \u001b[94m  0.435070\u001b[0m  |  \u001b[32m  0.386928\u001b[0m  |     1.124420  |     91.06%  |  0.8s"
       ]
      },
      {
       "output_type": "stream",
       "stream": "stdout",
       "text": [
        "\n",
        "    27  |  \u001b[94m  0.424431\u001b[0m  |    0.388979  |     1.091140  |     91.01%  |  0.8s"
       ]
      },
      {
       "output_type": "stream",
       "stream": "stdout",
       "text": [
        "\n",
        "    28  |  \u001b[94m  0.422385\u001b[0m  |    0.399462  |     1.057386  |     90.54%  |  0.8s"
       ]
      },
      {
       "output_type": "stream",
       "stream": "stdout",
       "text": [
        "\n",
        "    29  |  \u001b[94m  0.414514\u001b[0m  |    0.391476  |     1.058847  |     91.26%  |  0.8s"
       ]
      },
      {
       "output_type": "stream",
       "stream": "stdout",
       "text": [
        "\n",
        "    30  |  \u001b[94m  0.408768\u001b[0m  |  \u001b[32m  0.385654\u001b[0m  |     1.059934  |     91.44%  |  0.8s"
       ]
      },
      {
       "output_type": "stream",
       "stream": "stdout",
       "text": [
        "\n",
        "    31  |  \u001b[94m  0.402662\u001b[0m  |  \u001b[32m  0.384181\u001b[0m  |     1.048106  |     91.30%  |  0.9s"
       ]
      },
      {
       "output_type": "stream",
       "stream": "stdout",
       "text": [
        "\n",
        "    32  |  \u001b[94m  0.391978\u001b[0m  |  \u001b[32m  0.376424\u001b[0m  |     1.041319  |     91.94%  |  1.1s"
       ]
      },
      {
       "output_type": "stream",
       "stream": "stdout",
       "text": [
        "\n",
        "    33  |  \u001b[94m  0.389140\u001b[0m  |  \u001b[32m  0.372513\u001b[0m  |     1.044632  |     91.59%  |  1.0s"
       ]
      },
      {
       "output_type": "stream",
       "stream": "stdout",
       "text": [
        "\n",
        "    34  |  \u001b[94m  0.385943\u001b[0m  |  \u001b[32m  0.369226\u001b[0m  |     1.045275  |     91.94%  |  0.8s"
       ]
      },
      {
       "output_type": "stream",
       "stream": "stdout",
       "text": [
        "\n",
        "    35  |  \u001b[94m  0.374141\u001b[0m  |    0.370225  |     1.010577  |     91.74%  |  0.8s"
       ]
      },
      {
       "output_type": "stream",
       "stream": "stdout",
       "text": [
        "\n",
        "    36  |  \u001b[94m  0.371698\u001b[0m  |  \u001b[32m  0.367459\u001b[0m  |     1.011536  |     92.24%  |  0.8s"
       ]
      },
      {
       "output_type": "stream",
       "stream": "stdout",
       "text": [
        "\n",
        "    37  |  \u001b[94m  0.369297\u001b[0m  |  \u001b[32m  0.357388\u001b[0m  |     1.033323  |     92.36%  |  0.8s"
       ]
      },
      {
       "output_type": "stream",
       "stream": "stdout",
       "text": [
        "\n",
        "    38  |  \u001b[94m  0.365335\u001b[0m  |    0.365760  |     0.998836  |     92.07%  |  0.9s"
       ]
      },
      {
       "output_type": "stream",
       "stream": "stdout",
       "text": [
        "\n",
        "    39  |  \u001b[94m  0.362463\u001b[0m  |  \u001b[32m  0.353088\u001b[0m  |     1.026553  |     92.52%  |  0.9s"
       ]
      },
      {
       "output_type": "stream",
       "stream": "stdout",
       "text": [
        "\n",
        "    40  |  \u001b[94m  0.346551\u001b[0m  |    0.353434  |     0.980525  |     92.66%  |  0.9s"
       ]
      },
      {
       "output_type": "stream",
       "stream": "stdout",
       "text": [
        "\n",
        "    41  |    0.348933  |  \u001b[32m  0.349754\u001b[0m  |     0.997655  |     92.83%  |  0.7s"
       ]
      },
      {
       "output_type": "stream",
       "stream": "stdout",
       "text": [
        "\n",
        "    42  |    0.348037  |    0.356260  |     0.976921  |     92.71%  |  0.8s"
       ]
      },
      {
       "output_type": "stream",
       "stream": "stdout",
       "text": [
        "\n",
        "    43  |  \u001b[94m  0.338254\u001b[0m  |    0.363252  |     0.931182  |     92.35%  |  0.8s"
       ]
      },
      {
       "output_type": "stream",
       "stream": "stdout",
       "text": [
        "\n",
        "    44  |  \u001b[94m  0.333137\u001b[0m  |    0.361418  |     0.921748  |     92.54%  |  0.8s"
       ]
      },
      {
       "output_type": "stream",
       "stream": "stdout",
       "text": [
        "\n",
        "    45  |  \u001b[94m  0.330880\u001b[0m  |    0.353139  |     0.936967  |     92.83%  |  0.8s"
       ]
      },
      {
       "output_type": "stream",
       "stream": "stdout",
       "text": [
        "\n",
        "    46  |  \u001b[94m  0.330564\u001b[0m  |    0.355957  |     0.928664  |     92.85%  |  0.8s"
       ]
      },
      {
       "output_type": "stream",
       "stream": "stdout",
       "text": [
        "\n",
        "    47  |    0.332517  |    0.350723  |     0.948089  |     92.91%  |  1.3s"
       ]
      },
      {
       "output_type": "stream",
       "stream": "stdout",
       "text": [
        "\n",
        "    48  |  \u001b[94m  0.330322\u001b[0m  |    0.351629  |     0.939407  |     92.56%  |  1.0s"
       ]
      },
      {
       "output_type": "stream",
       "stream": "stdout",
       "text": [
        "\n",
        "    49  |  \u001b[94m  0.323585\u001b[0m  |    0.357390  |     0.905412  |     92.99%  |  1.0s"
       ]
      },
      {
       "output_type": "stream",
       "stream": "stdout",
       "text": [
        "\n",
        "    50  |  \u001b[94m  0.320158\u001b[0m  |  \u001b[32m  0.341664\u001b[0m  |     0.937055  |     93.22%  |  1.0s"
       ]
      },
      {
       "output_type": "stream",
       "stream": "stdout",
       "text": [
        "\n",
        "    51  |  \u001b[94m  0.317036\u001b[0m  |    0.358529  |     0.884269  |     92.80%  |  1.3s"
       ]
      },
      {
       "output_type": "stream",
       "stream": "stdout",
       "text": [
        "\n",
        "    52  |  \u001b[94m  0.313580\u001b[0m  |    0.357584  |     0.876939  |     93.12%  |  0.8s"
       ]
      },
      {
       "output_type": "stream",
       "stream": "stdout",
       "text": [
        "\n",
        "    53  |    0.313833  |    0.351048  |     0.893990  |     93.38%  |  0.8s"
       ]
      },
      {
       "output_type": "stream",
       "stream": "stdout",
       "text": [
        "\n",
        "    54  |  \u001b[94m  0.306496\u001b[0m  |    0.362614  |     0.845241  |     92.78%  |  1.0s"
       ]
      },
      {
       "output_type": "stream",
       "stream": "stdout",
       "text": [
        "\n",
        "    55  |    0.308221  |    0.353763  |     0.871264  |     93.12%  |  0.8s"
       ]
      },
      {
       "output_type": "stream",
       "stream": "stdout",
       "text": [
        "\n",
        "    56  |    0.310262  |    0.344778  |     0.899890  |     93.41%  |  0.8s"
       ]
      },
      {
       "output_type": "stream",
       "stream": "stdout",
       "text": [
        "\n",
        "    57  |  \u001b[94m  0.299512\u001b[0m  |    0.345794  |     0.866159  |     93.12%  |  0.8s"
       ]
      },
      {
       "output_type": "stream",
       "stream": "stdout",
       "text": [
        "\n",
        "    58  |    0.304435  |    0.349446  |     0.871191  |     93.28%  |  0.9s"
       ]
      },
      {
       "output_type": "stream",
       "stream": "stdout",
       "text": [
        "\n",
        "    59  |  \u001b[94m  0.296843\u001b[0m  |    0.348166  |     0.852590  |     93.28%  |  1.0s"
       ]
      },
      {
       "output_type": "stream",
       "stream": "stdout",
       "text": [
        "\n",
        "    60  |  \u001b[94m  0.295047\u001b[0m  |  \u001b[32m  0.341372\u001b[0m  |     0.864299  |     93.40%  |  0.9s"
       ]
      },
      {
       "output_type": "stream",
       "stream": "stdout",
       "text": [
        "\n",
        "    61  |  \u001b[94m  0.292501\u001b[0m  |    0.363463  |     0.804760  |     93.45%  |  0.8s"
       ]
      },
      {
       "output_type": "stream",
       "stream": "stdout",
       "text": [
        "\n",
        "    62  |  \u001b[94m  0.282530\u001b[0m  |    0.352005  |     0.802632  |     93.36%  |  0.9s"
       ]
      },
      {
       "output_type": "stream",
       "stream": "stdout",
       "text": [
        "\n",
        "    63  |    0.288234  |    0.344485  |     0.836709  |     93.26%  |  0.9s"
       ]
      },
      {
       "output_type": "stream",
       "stream": "stdout",
       "text": [
        "\n",
        "    64  |    0.286895  |    0.348571  |     0.823061  |     93.43%  |  0.9s"
       ]
      },
      {
       "output_type": "stream",
       "stream": "stdout",
       "text": [
        "\n",
        "    65  |    0.284311  |    0.363079  |     0.783054  |     93.12%  |  1.1s"
       ]
      },
      {
       "output_type": "stream",
       "stream": "stdout",
       "text": [
        "\n",
        "    66  |    0.288470  |    0.344226  |     0.838024  |     93.57%  |  0.8s"
       ]
      },
      {
       "output_type": "stream",
       "stream": "stdout",
       "text": [
        "\n",
        "    67  |  \u001b[94m  0.279875\u001b[0m  |  \u001b[32m  0.340092\u001b[0m  |     0.822940  |     93.54%  |  0.8s"
       ]
      },
      {
       "output_type": "stream",
       "stream": "stdout",
       "text": [
        "\n",
        "    68  |  \u001b[94m  0.278065\u001b[0m  |    0.346089  |     0.803450  |     93.30%  |  0.8s"
       ]
      },
      {
       "output_type": "stream",
       "stream": "stdout",
       "text": [
        "\n",
        "    69  |  \u001b[94m  0.267933\u001b[0m  |    0.340788  |     0.786217  |     93.56%  |  0.8s"
       ]
      },
      {
       "output_type": "stream",
       "stream": "stdout",
       "text": [
        "\n",
        "    70  |    0.273710  |    0.350017  |     0.781992  |     93.28%  |  0.9s"
       ]
      },
      {
       "output_type": "stream",
       "stream": "stdout",
       "text": [
        "\n",
        "    71  |    0.272293  |    0.349978  |     0.778029  |     93.57%  |  0.8s"
       ]
      },
      {
       "output_type": "stream",
       "stream": "stdout",
       "text": [
        "\n",
        "    72  |    0.268270  |    0.353057  |     0.759849  |     93.29%  |  0.8s"
       ]
      },
      {
       "output_type": "stream",
       "stream": "stdout",
       "text": [
        "\n",
        "    73  |    0.269018  |    0.349501  |     0.769720  |     93.50%  |  0.8s"
       ]
      },
      {
       "output_type": "stream",
       "stream": "stdout",
       "text": [
        "\n",
        "    74  |  \u001b[94m  0.264796\u001b[0m  |    0.347597  |     0.761790  |     93.58%  |  0.9s"
       ]
      },
      {
       "output_type": "stream",
       "stream": "stdout",
       "text": [
        "\n",
        "    75  |    0.266451  |    0.348152  |     0.765327  |     93.26%  |  0.8s"
       ]
      },
      {
       "output_type": "stream",
       "stream": "stdout",
       "text": [
        "\n",
        "    76  |    0.265248  |    0.351349  |     0.754942  |     93.51%  |  0.7s"
       ]
      },
      {
       "output_type": "stream",
       "stream": "stdout",
       "text": [
        "\n",
        "    77  |  \u001b[94m  0.264328\u001b[0m  |    0.347300  |     0.761093  |     93.47%  |  0.8s"
       ]
      },
      {
       "output_type": "stream",
       "stream": "stdout",
       "text": [
        "\n",
        "    78  |  \u001b[94m  0.261285\u001b[0m  |    0.342483  |     0.762914  |     93.67%  |  0.8s"
       ]
      },
      {
       "output_type": "stream",
       "stream": "stdout",
       "text": [
        "\n",
        "    79  |  \u001b[94m  0.256994\u001b[0m  |  \u001b[32m  0.335432\u001b[0m  |     0.766158  |     93.69%  |  0.8s"
       ]
      },
      {
       "output_type": "stream",
       "stream": "stdout",
       "text": [
        "\n",
        "    80  |    0.260857  |    0.339970  |     0.767294  |     93.76%  |  0.8s"
       ]
      },
      {
       "output_type": "stream",
       "stream": "stdout",
       "text": [
        "\n",
        "    81  |  \u001b[94m  0.252930\u001b[0m  |    0.340014  |     0.743881  |     93.86%  |  0.8s"
       ]
      },
      {
       "output_type": "stream",
       "stream": "stdout",
       "text": [
        "\n",
        "    82  |    0.259488  |    0.354321  |     0.732354  |     93.57%  |  0.8s"
       ]
      },
      {
       "output_type": "stream",
       "stream": "stdout",
       "text": [
        "\n",
        "    83  |    0.253045  |    0.349673  |     0.723662  |     93.71%  |  0.9s"
       ]
      },
      {
       "output_type": "stream",
       "stream": "stdout",
       "text": [
        "\n",
        "    84  |  \u001b[94m  0.252374\u001b[0m  |    0.336321  |     0.750396  |     93.68%  |  0.9s"
       ]
      },
      {
       "output_type": "stream",
       "stream": "stdout",
       "text": [
        "\n",
        "    85  |  \u001b[94m  0.250661\u001b[0m  |    0.338209  |     0.741143  |     93.88%  |  0.8s"
       ]
      },
      {
       "output_type": "stream",
       "stream": "stdout",
       "text": [
        "\n",
        "    86  |  \u001b[94m  0.247943\u001b[0m  |    0.348018  |     0.712445  |     93.69%  |  0.8s"
       ]
      },
      {
       "output_type": "stream",
       "stream": "stdout",
       "text": [
        "\n",
        "    87  |    0.250460  |    0.343611  |     0.728905  |     93.83%  |  0.9s"
       ]
      },
      {
       "output_type": "stream",
       "stream": "stdout",
       "text": [
        "\n",
        "    88  |    0.248326  |    0.339788  |     0.730827  |     93.76%  |  0.9s"
       ]
      },
      {
       "output_type": "stream",
       "stream": "stdout",
       "text": [
        "\n",
        "    89  |  \u001b[94m  0.244091\u001b[0m  |    0.339126  |     0.719765  |     93.90%  |  0.8s"
       ]
      },
      {
       "output_type": "stream",
       "stream": "stdout",
       "text": [
        "\n",
        "    90  |  \u001b[94m  0.241155\u001b[0m  |    0.347610  |     0.693752  |     93.79%  |  0.8s"
       ]
      },
      {
       "output_type": "stream",
       "stream": "stdout",
       "text": [
        "\n",
        "    91  |    0.243617  |    0.341335  |     0.713717  |     93.74%  |  0.8s"
       ]
      },
      {
       "output_type": "stream",
       "stream": "stdout",
       "text": [
        "\n",
        "    92  |  \u001b[94m  0.240376\u001b[0m  |    0.345758  |     0.695214  |     93.76%  |  0.9s"
       ]
      },
      {
       "output_type": "stream",
       "stream": "stdout",
       "text": [
        "\n",
        "    93  |  \u001b[94m  0.239393\u001b[0m  |    0.337184  |     0.709978  |     94.02%  |  1.1s"
       ]
      },
      {
       "output_type": "stream",
       "stream": "stdout",
       "text": [
        "\n",
        "    94  |    0.239804  |    0.339442  |     0.706465  |     93.93%  |  1.2s"
       ]
      },
      {
       "output_type": "stream",
       "stream": "stdout",
       "text": [
        "\n",
        "    95  |    0.240853  |    0.340732  |     0.706869  |     93.74%  |  1.1s"
       ]
      },
      {
       "output_type": "stream",
       "stream": "stdout",
       "text": [
        "\n",
        "    96  |  \u001b[94m  0.236991\u001b[0m  |    0.338312  |     0.700508  |     94.02%  |  0.9s"
       ]
      },
      {
       "output_type": "stream",
       "stream": "stdout",
       "text": [
        "\n",
        "    97  |    0.238528  |    0.343140  |     0.695132  |     93.95%  |  0.9s"
       ]
      },
      {
       "output_type": "stream",
       "stream": "stdout",
       "text": [
        "\n",
        "    98  |    0.238195  |    0.348107  |     0.684257  |     93.69%  |  0.9s"
       ]
      },
      {
       "output_type": "stream",
       "stream": "stdout",
       "text": [
        "\n",
        "    99  |  \u001b[94m  0.235605\u001b[0m  |    0.336041  |     0.701120  |     93.90%  |  0.9s"
       ]
      },
      {
       "output_type": "stream",
       "stream": "stdout",
       "text": [
        "\n",
        "   100  |  \u001b[94m  0.232123\u001b[0m  |    0.341893  |     0.678934  |     93.90%  |  0.8s"
       ]
      }
     ]
    },
    {
     "cell_type": "code",
     "collapsed": false,
     "input": [],
     "language": "python",
     "metadata": {},
     "outputs": []
    }
   ],
   "metadata": {}
  }
 ]
}